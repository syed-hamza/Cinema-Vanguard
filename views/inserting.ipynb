{
 "cells": [
  {
   "cell_type": "code",
   "execution_count": 8,
   "metadata": {},
   "outputs": [],
   "source": [
    "import pymysql\n",
    "import os\n",
    "def insert_image(image_path,i):\n",
    "    # Connect to the MySQL database\n",
    "    connection = pymysql.connect(\n",
    "        host='localhost',\n",
    "        user='root',\n",
    "        password='Regal@301',\n",
    "        database='cinema'\n",
    "    )\n",
    "\n",
    "    try:\n",
    "        with open(image_path, 'rb') as file:\n",
    "            image_blob = file.read()\n",
    "\n",
    "            # Create a cursor object\n",
    "            cursor = connection.cursor()\n",
    "\n",
    "            # SQL statement to insert image into the database\n",
    "            insert_query = 'INSERT INTO Images VALUES (%s,%s)'\n",
    "            cursor.execute(insert_query, (i,image_blob))\n",
    "\n",
    "            # Commit changes\n",
    "            connection.commit()\n",
    "    except pymysql.Error as e:\n",
    "        print(f\"Error inserting image: {e}\")\n",
    "    finally:\n",
    "        # Close the connection\n",
    "        connection.close()\n",
    "\n"
   ]
  },
  {
   "cell_type": "code",
   "execution_count": 9,
   "metadata": {},
   "outputs": [
    {
     "name": "stdout",
     "output_type": "stream",
     "text": [
      "images/2states.jpg\n",
      "images/2statesbook.jpg\n",
      "images/AB.jpg\n",
      "images/AbhishekVerma.jpg\n",
      "images/ad.jpg\n",
      "images/ARH.jpg\n",
      "images/arjubkapoor.jpg\n",
      "images/bhoomi.jpg\n",
      "images/bhoomibook.jpg\n",
      "images/chetan.jpg\n",
      "images/drishbook.jpg\n",
      "images/drishyam.jpg\n",
      "images/gott.jpg\n",
      "images/gottbook.jpg\n",
      "images/haidermov.jpg\n",
      "images/hamlet.jpg\n",
      "images/hgfmov.jpg\n",
      "images/hgf_book.jpg\n",
      "images/keigo.jpg\n",
      "images/logo.jpg\n",
      "images/mohitsuri.jpg\n",
      "images/movbg.jpg\n",
      "images/nishantkamat.jpg\n",
      "images/pari.jpg\n",
      "images/paula.jpg\n",
      "images/profile.jpg\n",
      "images/ribhudas.jpg\n",
      "images/sandutt.jpg\n",
      "images/santosh.jpg\n",
      "images/shahidkapoor.jpg\n",
      "images/shakespear.jpg\n",
      "images/sharaddhakapoor.jpg\n",
      "images/tabu.jpg\n",
      "images/tdos.jpg\n",
      "images/umangkumar.jpg\n",
      "images/vishalbharadwaj.jpg\n"
     ]
    }
   ],
   "source": [
    "path = \"images/\"\n",
    "images = os.listdir(path)\n",
    "for i in images:\n",
    "    print(path+i)\n",
    "    insert_image(path+i,i)"
   ]
  },
  {
   "cell_type": "code",
   "execution_count": null,
   "metadata": {},
   "outputs": [],
   "source": [
    "\n"
   ]
  }
 ],
 "metadata": {
  "kernelspec": {
   "display_name": "Python 3",
   "language": "python",
   "name": "python3"
  },
  "language_info": {
   "codemirror_mode": {
    "name": "ipython",
    "version": 3
   },
   "file_extension": ".py",
   "mimetype": "text/x-python",
   "name": "python",
   "nbconvert_exporter": "python",
   "pygments_lexer": "ipython3",
   "version": "3.11.0"
  }
 },
 "nbformat": 4,
 "nbformat_minor": 2
}
